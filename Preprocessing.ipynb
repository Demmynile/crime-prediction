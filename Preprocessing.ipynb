{
 "cells": [
  {
   "cell_type": "markdown",
   "id": "a97e81ff-6b71-4b6e-8bd2-238515896b1c",
   "metadata": {},
   "source": [
    "### 1.0 Data Preprocessing"
   ]
  },
  {
   "cell_type": "markdown",
   "id": "5129fcaf-0209-4a4e-b1c3-df94fc5928ba",
   "metadata": {},
   "source": [
    "#### 1.1 data acquisition"
   ]
  },
  {
   "cell_type": "code",
   "execution_count": null,
   "id": "8727d613-d245-4d0d-8620-7b556f113cd9",
   "metadata": {},
   "outputs": [
    {
     "ename": "",
     "evalue": "",
     "output_type": "error",
     "traceback": [
      "\u001b[1;31mRunning cells with 'Python 3.12.3' requires the ipykernel package.\n",
      "\u001b[1;31mRun the following command to install 'ipykernel' into the Python environment. \n",
      "\u001b[1;31mCommand: '/opt/homebrew/bin/python3 -m pip install ipykernel -U --user --force-reinstall'"
     ]
    }
   ],
   "source": [
    "# data acquisition library\n",
    "import pandas as pd\n",
    "\n",
    "#import the numerical analytical library\n",
    "import numpy as np\n",
    "\n",
    "#import the visualization library\n",
    "import matplotlib.pyplot as plt\n",
    "import seaborn as sns\n"
   ]
  },
  {
   "cell_type": "code",
   "execution_count": null,
   "id": "503d960f-f1e0-47f7-a984-e1ea5226f2d4",
   "metadata": {},
   "outputs": [],
   "source": [
    "#acquiring data from the data source\n",
    "crime_df = pd.read_csv(\"./data/all_data/crime_df.csv\")\n",
    "crime_df"
   ]
  },
  {
   "cell_type": "code",
   "execution_count": null,
   "id": "8ff89df4-ca70-49e5-91dc-b2190e643047",
   "metadata": {},
   "outputs": [],
   "source": [
    "# checking general information\n",
    "crime_df.info()"
   ]
  },
  {
   "cell_type": "code",
   "execution_count": null,
   "id": "24792030-7aaa-42b7-a444-f319cf88225f",
   "metadata": {},
   "outputs": [],
   "source": [
    "# checking to see if there are null values in the data\n",
    "crime_df.isnull().sum()"
   ]
  },
  {
   "cell_type": "markdown",
   "id": "b0d11fbc-d69e-4db2-b521-1933948339f2",
   "metadata": {},
   "source": [
    "#### 1.2 There are null values at the TYPE_CODE,TYPE_CODO, so they need to be removed "
   ]
  },
  {
   "cell_type": "code",
   "execution_count": null,
   "id": "772c3846-2c0d-4f89-984e-fababdae5537",
   "metadata": {},
   "outputs": [],
   "source": [
    "# drop columns with null values\n",
    "crime_df = crime_df.drop(['Unnamed: 0','TYPE_COD0','DESCRIPT1','Context'] , axis = 1)\n",
    "crime_df"
   ]
  },
  {
   "cell_type": "code",
   "execution_count": null,
   "id": "4782c45e-f097-4f22-bbdb-684bea766af5",
   "metadata": {},
   "outputs": [],
   "source": [
    "#checking for your columns\n",
    "print(crime_df.columns)"
   ]
  },
  {
   "cell_type": "code",
   "execution_count": null,
   "id": "c75ed27b-46bc-4d34-b8ce-cfeb1d240666",
   "metadata": {},
   "outputs": [],
   "source": [
    "#if there is no null values again\n",
    "crime_df.isnull().sum()"
   ]
  },
  {
   "cell_type": "markdown",
   "id": "32d2204a-9e43-454b-be26-27b3680b5785",
   "metadata": {},
   "source": [
    "### 2.0 Some Exploratory Data Analysis"
   ]
  },
  {
   "cell_type": "markdown",
   "id": "67d2bda8-2ae9-48d8-b200-920cf9a27d22",
   "metadata": {},
   "source": [
    "#### 2.1 TOTAL NUMBER OF BURGLARY PER MONTH "
   ]
  },
  {
   "cell_type": "code",
   "execution_count": null,
   "id": "22439a6d-a66f-4952-af2a-cf7cbce72fd4",
   "metadata": {},
   "outputs": [],
   "source": [
    "# Count the number of burglaries per month\n",
    "monthly_burglaries = crime_df.groupby('Month').size().reset_index(name='Total Burglaries')\n",
    "monthly_burglaries"
   ]
  },
  {
   "cell_type": "code",
   "execution_count": null,
   "id": "98471659-f9ff-4ec8-b7d7-3ffb0992d487",
   "metadata": {},
   "outputs": [],
   "source": [
    "# visualization aspect of the data\n",
    "plt.figure(figsize=(12, 6))\n",
    "sns.lineplot(data=monthly_burglaries, x='Month', y='Total Burglaries', marker='o')\n",
    "plt.title('Total Number of Burglaries Per Month')\n",
    "plt.xlabel('Month')\n",
    "plt.ylabel('Total Burglaries')\n",
    "plt.xticks(rotation=45)\n",
    "plt.grid(False)\n",
    "plt.tight_layout()\n",
    "plt.show()"
   ]
  },
  {
   "cell_type": "markdown",
   "id": "558a5f2c-bd98-44df-8606-771fc7fc7b26",
   "metadata": {},
   "source": [
    "### 2.2 What Location has most of the crimes done or has the highest crime count "
   ]
  },
  {
   "cell_type": "code",
   "execution_count": null,
   "id": "62c2eb93-5827-430d-b302-99b54b6aae60",
   "metadata": {},
   "outputs": [],
   "source": [
    "import folium\n",
    "from folium.plugins import MarkerCluster"
   ]
  },
  {
   "cell_type": "code",
   "execution_count": null,
   "id": "6e466091-7451-433d-a11f-d30fec759d66",
   "metadata": {},
   "outputs": [],
   "source": [
    "# Initialize the map centered around the average coordinates\n",
    "map_center = [crime_df['Latitude'].mean(), crime_df['Longitude'].mean()]\n",
    "crime_map = folium.Map(location=map_center, zoom_start=14)\n",
    "\n",
    "# Initialize MarkerCluster\n",
    "marker_cluster = MarkerCluster().add_to(crime_map)\n",
    "\n",
    "# Add markers to the map\n",
    "for idx, row in crime_df.iterrows():\n",
    "    folium.Marker(\n",
    "        location=[row['Latitude'], row['Longitude']],\n",
    "        popup=row['Crime type'],\n",
    "        icon=folium.Icon(color='red', icon='info-sign')\n",
    "    ).add_to(marker_cluster)\n",
    "\n",
    "crime_map"
   ]
  },
  {
   "cell_type": "code",
   "execution_count": null,
   "id": "55991d60-abf1-418a-9f2c-ef644ae7ce94",
   "metadata": {},
   "outputs": [],
   "source": []
  }
 ],
 "metadata": {
  "kernelspec": {
   "display_name": "Python 3 (ipykernel)",
   "language": "python",
   "name": "python3"
  },
  "language_info": {
   "codemirror_mode": {
    "name": "ipython",
    "version": 3
   },
   "file_extension": ".py",
   "mimetype": "text/x-python",
   "name": "python",
   "nbconvert_exporter": "python",
   "pygments_lexer": "ipython3",
   "version": "3.12.3"
  }
 },
 "nbformat": 4,
 "nbformat_minor": 5
}
